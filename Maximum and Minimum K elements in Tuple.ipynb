{
 "cells": [
  {
   "cell_type": "code",
   "execution_count": 11,
   "id": "02b5e9c5",
   "metadata": {},
   "outputs": [
    {
     "name": "stdout",
     "output_type": "stream",
     "text": [
      "The original tuple is : (5, 20, 3, 7, 6, 8)\n"
     ]
    },
    {
     "ename": "TypeError",
     "evalue": "'tuple' object is not callable",
     "output_type": "error",
     "traceback": [
      "\u001b[1;31m---------------------------------------------------------------------------\u001b[0m",
      "\u001b[1;31mTypeError\u001b[0m                                 Traceback (most recent call last)",
      "\u001b[1;32m~\\AppData\\Local\\Temp\\ipykernel_10540\\776565036.py\u001b[0m in \u001b[0;36m<module>\u001b[1;34m\u001b[0m\n\u001b[0;32m     15\u001b[0m \u001b[1;31m# Using sorted() + loop\u001b[0m\u001b[1;33m\u001b[0m\u001b[1;33m\u001b[0m\u001b[0m\n\u001b[0;32m     16\u001b[0m \u001b[0mres\u001b[0m \u001b[1;33m=\u001b[0m \u001b[1;33m[\u001b[0m\u001b[1;33m]\u001b[0m\u001b[1;33m\u001b[0m\u001b[1;33m\u001b[0m\u001b[0m\n\u001b[1;32m---> 17\u001b[1;33m \u001b[0mtest_tup\u001b[0m \u001b[1;33m=\u001b[0m \u001b[0mlist\u001b[0m\u001b[1;33m(\u001b[0m\u001b[0msorted\u001b[0m\u001b[1;33m(\u001b[0m\u001b[0mtest_tup\u001b[0m\u001b[1;33m)\u001b[0m\u001b[1;33m)\u001b[0m\u001b[1;33m\u001b[0m\u001b[1;33m\u001b[0m\u001b[0m\n\u001b[0m\u001b[0;32m     18\u001b[0m \u001b[1;33m\u001b[0m\u001b[0m\n\u001b[0;32m     19\u001b[0m \u001b[1;32mfor\u001b[0m \u001b[0midx\u001b[0m\u001b[1;33m,\u001b[0m \u001b[0mval\u001b[0m \u001b[1;32min\u001b[0m \u001b[0menumerate\u001b[0m\u001b[1;33m(\u001b[0m\u001b[0mtest_tup\u001b[0m\u001b[1;33m)\u001b[0m\u001b[1;33m:\u001b[0m\u001b[1;33m\u001b[0m\u001b[1;33m\u001b[0m\u001b[0m\n",
      "\u001b[1;31mTypeError\u001b[0m: 'tuple' object is not callable"
     ]
    }
   ],
   "source": [
    "\n",
    "\n",
    "# Python3 code to demonstrate working of \n",
    "# Maximum and Minimum K elements in Tuple\n",
    "# Using sorted() + loop\n",
    " \n",
    "# initializing tuple\n",
    "test_tup = (5, 20, 3, 7, 6, 8)\n",
    " \n",
    "# printing original tuple\n",
    "print(\"The original tuple is : \" + str(test_tup))\n",
    " \n",
    "# initializing K \n",
    "K = 2\n",
    " \n",
    "# Maximum and Minimum K elements in Tuple\n",
    "# Using sorted() + loop\n",
    "res = []\n",
    "test_tup = list(sorted(test_tup))\n",
    " \n",
    "for idx, val in enumerate(test_tup):\n",
    "    if idx < K or idx >= len(test_tup) - K:\n",
    "        res.append(val)\n",
    "res = tuple(res)\n",
    " \n",
    "# printing result \n",
    "print(\"The extracted values : \" + str(res))"
   ]
  },
  {
   "cell_type": "code",
   "execution_count": 12,
   "id": "fd0ee0a3",
   "metadata": {},
   "outputs": [
    {
     "name": "stdout",
     "output_type": "stream",
     "text": [
      "The original tuple is : (5, 20, 3, 7, 6, 8)\n"
     ]
    },
    {
     "ename": "TypeError",
     "evalue": "'tuple' object is not callable",
     "output_type": "error",
     "traceback": [
      "\u001b[1;31m---------------------------------------------------------------------------\u001b[0m",
      "\u001b[1;31mTypeError\u001b[0m                                 Traceback (most recent call last)",
      "\u001b[1;32m~\\AppData\\Local\\Temp\\ipykernel_10540\\411806621.py\u001b[0m in \u001b[0;36m<module>\u001b[1;34m\u001b[0m\n\u001b[0;32m     10\u001b[0m \u001b[1;31m# Maximum and Minimum K elements in Tuple\u001b[0m\u001b[1;33m\u001b[0m\u001b[1;33m\u001b[0m\u001b[0m\n\u001b[0;32m     11\u001b[0m \u001b[1;31m# Using slicing + sorted()\u001b[0m\u001b[1;33m\u001b[0m\u001b[1;33m\u001b[0m\u001b[0m\n\u001b[1;32m---> 12\u001b[1;33m \u001b[0mtest_tup\u001b[0m \u001b[1;33m=\u001b[0m \u001b[0mlist\u001b[0m\u001b[1;33m(\u001b[0m\u001b[0mtest_tup\u001b[0m\u001b[1;33m)\u001b[0m\u001b[1;33m\u001b[0m\u001b[1;33m\u001b[0m\u001b[0m\n\u001b[0m\u001b[0;32m     13\u001b[0m \u001b[0mtemp\u001b[0m \u001b[1;33m=\u001b[0m \u001b[0msorted\u001b[0m\u001b[1;33m(\u001b[0m\u001b[0mtest_tup\u001b[0m\u001b[1;33m)\u001b[0m\u001b[1;33m\u001b[0m\u001b[1;33m\u001b[0m\u001b[0m\n\u001b[0;32m     14\u001b[0m \u001b[0mres\u001b[0m \u001b[1;33m=\u001b[0m \u001b[0mtuple\u001b[0m\u001b[1;33m(\u001b[0m\u001b[0mtemp\u001b[0m\u001b[1;33m[\u001b[0m\u001b[1;33m:\u001b[0m\u001b[0mK\u001b[0m\u001b[1;33m]\u001b[0m \u001b[1;33m+\u001b[0m \u001b[0mtemp\u001b[0m\u001b[1;33m[\u001b[0m\u001b[1;33m-\u001b[0m\u001b[0mK\u001b[0m\u001b[1;33m:\u001b[0m\u001b[1;33m]\u001b[0m\u001b[1;33m)\u001b[0m\u001b[1;33m\u001b[0m\u001b[1;33m\u001b[0m\u001b[0m\n",
      "\u001b[1;31mTypeError\u001b[0m: 'tuple' object is not callable"
     ]
    }
   ],
   "source": [
    "# initializing tuple\n",
    "test_tup = (5, 20, 3, 7, 6, 8)\n",
    " \n",
    "# printing original tuple\n",
    "print(\"The original tuple is : \" + str(test_tup))\n",
    " \n",
    "# initializing K \n",
    "K = 2\n",
    " \n",
    "# Maximum and Minimum K elements in Tuple\n",
    "# Using slicing + sorted()\n",
    "test_tup = list(test_tup)\n",
    "temp = sorted(test_tup)\n",
    "res = tuple(temp[:K] + temp[-K:])\n",
    " \n",
    "# printing result \n",
    "print(\"The extracted values : \" + str(res)) \n"
   ]
  },
  {
   "cell_type": "code",
   "execution_count": 13,
   "id": "8a3403ff",
   "metadata": {},
   "outputs": [
    {
     "name": "stdout",
     "output_type": "stream",
     "text": [
      "The original tuple is : (5, 20, 3, 7, 6, 8)\n",
      "The extracted values : (3, 5, 8, 20)\n"
     ]
    }
   ],
   "source": [
    "import heapq\n",
    "test_tup = (5, 20, 3, 7, 6, 8)\n",
    "# printing original tuple\n",
    "print(\"The original tuple is : \" + str(test_tup))\n",
    "K = 2\n",
    "smallest = heapq.nsmallest(K, test_tup)\n",
    "largest = heapq.nlargest(K, test_tup)\n",
    "result = tuple(sorted(smallest + largest))\n",
    "print(\"The extracted values : \" +str(result))"
   ]
  },
  {
   "cell_type": "code",
   "execution_count": 14,
   "id": "c6a8fc48",
   "metadata": {},
   "outputs": [
    {
     "name": "stdout",
     "output_type": "stream",
     "text": [
      "The original tuple is : (5, 20, 3, 7, 6, 8)\n",
      "The extracted values : (5, 8, 5, 3)\n"
     ]
    }
   ],
   "source": [
    "# Python3 code to demonstrate working of \n",
    "# Maximum and Minimum K elements in Tuple\n",
    "# Using built-in functions and loop\n",
    " \n",
    "# initializing tuple\n",
    "test_tup = (5, 20, 3, 7, 6, 8)\n",
    " \n",
    "# printing original tuple\n",
    "print(\"The original tuple is : \" + str(test_tup))\n",
    " \n",
    "# initializing K \n",
    "K = 2\n",
    " \n",
    "# Find the minimum and maximum elements in the tuple\n",
    "min_val = min(test_tup)\n",
    "max_val = max(test_tup)\n",
    " \n",
    "# Create two lists to store the K minimum and maximum elements\n",
    "min_list = []\n",
    "max_list = []\n",
    " \n",
    "# Loop through the tuple and add elements to the appropriate list\n",
    "for elem in test_tup:\n",
    "    if elem <= max_val:\n",
    "        if len(max_list) < K:\n",
    "            max_list.append(elem)\n",
    "        else:\n",
    "            max_list.remove(min(max_list))\n",
    "            max_list.append(elem)\n",
    "        max_val = max(max_list)\n",
    "    if elem >= min_val:\n",
    "        if len(min_list) < K:\n",
    "            min_list.append(elem)\n",
    "        else:\n",
    "            min_list.remove(max(min_list))\n",
    "            min_list.append(elem)\n",
    "        min_val = min(min_list)\n",
    " # Combine the two lists and convert the result back to a tuple\n",
    "result = tuple(min_list + max_list)\n",
    " \n",
    "# Print the original tuple and the extracted values\n",
    "print(\"The extracted values : \" + str(result))"
   ]
  },
  {
   "cell_type": "code",
   "execution_count": 15,
   "id": "48d16d0f",
   "metadata": {},
   "outputs": [
    {
     "name": "stdout",
     "output_type": "stream",
     "text": [
      "Given tuple is:  (0, 1, 2, 3, 4, 5, 6, 7, 8, 9)\n"
     ]
    },
    {
     "ename": "TypeError",
     "evalue": "'tuple' object is not callable",
     "output_type": "error",
     "traceback": [
      "\u001b[1;31m---------------------------------------------------------------------------\u001b[0m",
      "\u001b[1;31mTypeError\u001b[0m                                 Traceback (most recent call last)",
      "\u001b[1;32m~\\AppData\\Local\\Temp\\ipykernel_10540\\993478223.py\u001b[0m in \u001b[0;36m<module>\u001b[1;34m\u001b[0m\n\u001b[0;32m     10\u001b[0m \u001b[1;33m\u001b[0m\u001b[0m\n\u001b[0;32m     11\u001b[0m \u001b[1;31m# Converting tuple into list\u001b[0m\u001b[1;33m\u001b[0m\u001b[1;33m\u001b[0m\u001b[0m\n\u001b[1;32m---> 12\u001b[1;33m \u001b[0mtup\u001b[0m \u001b[1;33m=\u001b[0m \u001b[0mlist\u001b[0m\u001b[1;33m(\u001b[0m\u001b[0mtup\u001b[0m\u001b[1;33m)\u001b[0m\u001b[1;33m\u001b[0m\u001b[1;33m\u001b[0m\u001b[0m\n\u001b[0m\u001b[0;32m     13\u001b[0m \u001b[1;33m\u001b[0m\u001b[0m\n\u001b[0;32m     14\u001b[0m \u001b[0mk\u001b[0m \u001b[1;33m=\u001b[0m \u001b[1;36m2\u001b[0m\u001b[1;33m\u001b[0m\u001b[1;33m\u001b[0m\u001b[0m\n",
      "\u001b[1;31mTypeError\u001b[0m: 'tuple' object is not callable"
     ]
    }
   ],
   "source": [
    "# Python program to print maximum and minimum k elements in the tuple\n",
    "# Initializing the tuple\n",
    "tup = (0, 1, 2, 3, 4, 5, 6, 7, 8, 9)\n",
    " \n",
    "# Printing the original tuple\n",
    "print('Given tuple is: ', tup)\n",
    " \n",
    "min1 = []\n",
    "max1 = []\n",
    " \n",
    "# Converting tuple into list\n",
    "tup = list(tup)\n",
    " \n",
    "k = 2\n",
    "i = 0\n",
    " \n",
    "# Traversing for k min and max elements using while\n",
    "while i < k:\n",
    "    min1.append(min(tup))\n",
    "    tup. remove(min(tup))\n",
    "    i = i+1\n",
    " \n",
    "i = 0\n",
    "while i < k:\n",
    "    max1. append(max(tup))\n",
    "    tup. remove(max(tup))\n",
    "    i = i+1\n",
    " # Joining two lists\n",
    "res = min1+max1\n",
    " \n",
    "# sorting the list using sort()\n",
    "res.sort()\n",
    " \n",
    "# Converting the list into tuple\n",
    "res = tuple(res)\n",
    " \n",
    "# Printing the tuple with k min and max elements in the tuple\n",
    "print('The minimum ', k, 'and maximum ', k, 'elements in the tuple are', res)"
   ]
  },
  {
   "cell_type": "code",
   "execution_count": 16,
   "id": "917992f6",
   "metadata": {},
   "outputs": [
    {
     "name": "stdout",
     "output_type": "stream",
     "text": [
      "Maximum 2 elements: [20, 8]\n",
      "Minimum 2 elements: [3, 5]\n"
     ]
    }
   ],
   "source": [
    "tup = (5, 20, 3, 7, 6, 8)\n",
    "k = 2\n",
    " \n",
    "max_k_elements = []\n",
    "min_k_elements = []\n",
    " \n",
    "for elem in tup:\n",
    "    max_k_elements.append(elem)\n",
    "    max_k_elements.sort(reverse=True)\n",
    "    if len(max_k_elements) > k:\n",
    "        max_k_elements.pop()\n",
    "     \n",
    "    min_k_elements.append(elem)\n",
    "    min_k_elements.sort()\n",
    "    if len(min_k_elements) > k:\n",
    "        min_k_elements.pop()\n",
    " \n",
    "print(\"Maximum\", k, \"elements:\", max_k_elements)\n",
    "print(\"Minimum\", k, \"elements:\", min_k_elements)"
   ]
  },
  {
   "cell_type": "code",
   "execution_count": null,
   "id": "b3a533d9",
   "metadata": {},
   "outputs": [],
   "source": []
  }
 ],
 "metadata": {
  "kernelspec": {
   "display_name": "Python 3 (ipykernel)",
   "language": "python",
   "name": "python3"
  },
  "language_info": {
   "codemirror_mode": {
    "name": "ipython",
    "version": 3
   },
   "file_extension": ".py",
   "mimetype": "text/x-python",
   "name": "python",
   "nbconvert_exporter": "python",
   "pygments_lexer": "ipython3",
   "version": "3.9.13"
  }
 },
 "nbformat": 4,
 "nbformat_minor": 5
}
